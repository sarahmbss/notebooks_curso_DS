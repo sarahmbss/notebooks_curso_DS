{
 "cells": [
  {
   "cell_type": "markdown",
   "id": "d40144d8-91f7-4590-9047-8ff30e808966",
   "metadata": {},
   "source": [
    "### Classificação de dígitos manuscritos\n",
    "\n",
    "O objetivo principal do notebook é trabalhar a classificação de dígitos manuscritos. A base conta com 60 mil exemplos de treino e 10 mil exemplos de teste. \n",
    "\n",
    "Para a classificação, utilizou-se Deep Learning."
   ]
  },
  {
   "cell_type": "markdown",
   "id": "1c659e46-0df0-43d2-8ff2-de4ad10dd5f3",
   "metadata": {},
   "source": [
    "#### Importação das bibliotecas"
   ]
  },
  {
   "cell_type": "code",
   "execution_count": 3,
   "id": "549a4368-04ba-4ac9-afcd-484671e52673",
   "metadata": {},
   "outputs": [],
   "source": [
    "import matplotlib.pyplot as plt\n",
    "from keras.models import Sequential\n",
    "from keras.layers import Dense, Dropout\n",
    "from keras.utils import np_utils\n",
    "import numpy as np\n",
    "from sklearn.metrics import confusion_matrix\n",
    "from keras.datasets import mnist"
   ]
  },
  {
   "cell_type": "markdown",
   "id": "53829844-862e-4df6-bcf7-57d552e07a96",
   "metadata": {},
   "source": [
    "#### Importação da base de dados"
   ]
  },
  {
   "cell_type": "code",
   "execution_count": 12,
   "id": "f9e8a36a-f328-459e-9e68-72244284a5a2",
   "metadata": {},
   "outputs": [
    {
     "data": {
      "text/plain": [
       "Text(0.5, 1.0, '0')"
      ]
     },
     "execution_count": 12,
     "metadata": {},
     "output_type": "execute_result"
    },
    {
     "data": {
      "image/png": "[encoded data removed]",
      "text/plain": [
       "<Figure size 432x288 with 1 Axes>"
      ]
     },
     "metadata": {
      "needs_background": "light"
     },
     "output_type": "display_data"
    }
   ],
   "source": [
    "#obtenção dos dados e divisão automática entre treinamento e teste\n",
    "(X_treinamento, y_treinamento), (X_teste, y_teste) = mnist.load_data()\n",
    "\n",
    "#Visualização de imagens específicas\n",
    "plt.imshow(X_treinamento[21], cmap='gray')\n",
    "plt.title(y_treinamento[21])"
   ]
  },
  {
   "cell_type": "markdown",
   "id": "78448923-7eec-4a2d-88d2-038055ed1ebe",
   "metadata": {},
   "source": [
    "#### Tratamento dos dados"
   ]
  },
  {
   "cell_type": "code",
   "execution_count": 13,
   "id": "eaf24057-9ac6-479a-8d19-00056ceafc55",
   "metadata": {},
   "outputs": [],
   "source": [
    "#Mudança de dimensão, precisamos de um vetor 784\n",
    "X_treinamento = X_treinamento.reshape((len(X_treinamento), np.prod(X_treinamento.shape[1:])))\n",
    "X_teste = X_teste.reshape((len(X_teste), np.prod(X_teste.shape[1:])))"
   ]
  },
  {
   "cell_type": "code",
   "execution_count": 14,
   "id": "ae908b07-fc2f-4272-8e1c-fd846e7231da",
   "metadata": {},
   "outputs": [],
   "source": [
    "#Transformação dos dados para float\n",
    "X_treinamento = X_treinamento.astype('float32')\n",
    "X_teste = X_teste.astype('float32')"
   ]
  },
  {
   "cell_type": "code",
   "execution_count": 15,
   "id": "fe292ee6-b437-4263-9b4f-f14933ad4fcb",
   "metadata": {},
   "outputs": [],
   "source": [
    "#Normalização (255 pois é o valor máximo de 1 pixel)\n",
    "X_treinamento /= 255\n",
    "X_teste /= 255"
   ]
  },
  {
   "cell_type": "code",
   "execution_count": 16,
   "id": "fca69802-e7a6-4524-bd38-0be97f467364",
   "metadata": {},
   "outputs": [],
   "source": [
    "#Transformação para o formato dummy pois temos 10 classes diferentes\n",
    "y_treinamento = np_utils.to_categorical(y_treinamento, 10)\n",
    "y_teste = np_utils.to_categorical(y_teste, 10)"
   ]
  },
  {
   "cell_type": "markdown",
   "id": "c2ee5bbb-fad2-4a3d-8260-7038be1db554",
   "metadata": {},
   "source": [
    "#### Criação do modelo"
   ]
  },
  {
   "cell_type": "code",
   "execution_count": 19,
   "id": "1fd68d8f-4388-44c3-8605-81146e5169e4",
   "metadata": {},
   "outputs": [],
   "source": [
    "#estrutura da rede neural: 784 - 64 - 64 - 10\n",
    "#dropout = zerar a porcentagem dos neurônios para evitar o overfitting\n",
    "modelo = Sequential()\n",
    "modelo.add(Dense(units = 64, activation = 'relu', input_dim=784)) #relu muito usado para processamento de imagens\n",
    "modelo.add(Dropout(0.2)) #20% das ligações serão zeradas\n",
    "modelo.add(Dense(units=64, activation='relu'))\n",
    "modelo.add(Dropout(0.2))\n",
    "modelo.add(Dense(units=64, activation='relu'))\n",
    "modelo.add(Dropout(0.2))\n",
    "\n",
    "#camada de saída, softmax probabilidade\n",
    "modelo.add(Dense(units=10, activation='softmax'))"
   ]
  },
  {
   "cell_type": "code",
   "execution_count": 20,
   "id": "3f26bf6f-7535-4d34-a542-e9509016f034",
   "metadata": {},
   "outputs": [
    {
     "name": "stdout",
     "output_type": "stream",
     "text": [
      "Model: \"sequential_1\"\n",
      "_________________________________________________________________\n",
      " Layer (type)                Output Shape              Param #   \n",
      "=================================================================\n",
      " dense_3 (Dense)             (None, 64)                50240     \n",
      "                                                                 \n",
      " dropout_3 (Dropout)         (None, 64)                0         \n",
      "                                                                 \n",
      " dense_4 (Dense)             (None, 64)                4160      \n",
      "                                                                 \n",
      " dropout_4 (Dropout)         (None, 64)                0         \n",
      "                                                                 \n",
      " dense_5 (Dense)             (None, 64)                4160      \n",
      "                                                                 \n",
      " dropout_5 (Dropout)         (None, 64)                0         \n",
      "                                                                 \n",
      " dense_6 (Dense)             (None, 10)                650       \n",
      "                                                                 \n",
      "=================================================================\n",
      "Total params: 59,210\n",
      "Trainable params: 59,210\n",
      "Non-trainable params: 0\n",
      "_________________________________________________________________\n"
     ]
    }
   ],
   "source": [
    "modelo.summary()"
   ]
  },
  {
   "cell_type": "code",
   "execution_count": 22,
   "id": "d0005caf-874c-44ad-b940-aa33e1dc33c3",
   "metadata": {},
   "outputs": [
    {
     "name": "stdout",
     "output_type": "stream",
     "text": [
      "Epoch 1/20\n",
      "1875/1875 [==============================] - 7s 3ms/step - loss: 0.4456 - accuracy: 0.8648 - val_loss: 0.1769 - val_accuracy: 0.9467\n",
      "Epoch 2/20\n",
      "1875/1875 [==============================] - 5s 3ms/step - loss: 0.2344 - accuracy: 0.9322 - val_loss: 0.1299 - val_accuracy: 0.9605\n",
      "Epoch 3/20\n",
      "1875/1875 [==============================] - 6s 3ms/step - loss: 0.1955 - accuracy: 0.9432 - val_loss: 0.1180 - val_accuracy: 0.9637\n",
      "Epoch 4/20\n",
      "1875/1875 [==============================] - 6s 3ms/step - loss: 0.1700 - accuracy: 0.9508 - val_loss: 0.1087 - val_accuracy: 0.9666\n",
      "Epoch 5/20\n",
      "1875/1875 [==============================] - 6s 3ms/step - loss: 0.1562 - accuracy: 0.9545 - val_loss: 0.1028 - val_accuracy: 0.9702\n",
      "Epoch 6/20\n",
      "1875/1875 [==============================] - 6s 3ms/step - loss: 0.1431 - accuracy: 0.9582 - val_loss: 0.0999 - val_accuracy: 0.9716\n",
      "Epoch 7/20\n",
      "1875/1875 [==============================] - 7s 4ms/step - loss: 0.1322 - accuracy: 0.9607 - val_loss: 0.0987 - val_accuracy: 0.9723\n",
      "Epoch 8/20\n",
      "1875/1875 [==============================] - 8s 4ms/step - loss: 0.1294 - accuracy: 0.9617 - val_loss: 0.0970 - val_accuracy: 0.9732\n",
      "Epoch 9/20\n",
      "1875/1875 [==============================] - 6s 3ms/step - loss: 0.1201 - accuracy: 0.9649 - val_loss: 0.0969 - val_accuracy: 0.9702\n",
      "Epoch 10/20\n",
      "1875/1875 [==============================] - 5s 3ms/step - loss: 0.1145 - accuracy: 0.9658 - val_loss: 0.0867 - val_accuracy: 0.9733\n",
      "Epoch 11/20\n",
      "1875/1875 [==============================] - 5s 2ms/step - loss: 0.1115 - accuracy: 0.9668 - val_loss: 0.0899 - val_accuracy: 0.9736\n",
      "Epoch 12/20\n",
      "1875/1875 [==============================] - 5s 3ms/step - loss: 0.1083 - accuracy: 0.9673 - val_loss: 0.0992 - val_accuracy: 0.9715\n",
      "Epoch 13/20\n",
      "1875/1875 [==============================] - 5s 2ms/step - loss: 0.1059 - accuracy: 0.9688 - val_loss: 0.0922 - val_accuracy: 0.9738\n",
      "Epoch 14/20\n",
      "1875/1875 [==============================] - 4s 2ms/step - loss: 0.1027 - accuracy: 0.9697 - val_loss: 0.0915 - val_accuracy: 0.9745\n",
      "Epoch 15/20\n",
      "1875/1875 [==============================] - 5s 2ms/step - loss: 0.0994 - accuracy: 0.9696 - val_loss: 0.0995 - val_accuracy: 0.9718\n",
      "Epoch 16/20\n",
      "1875/1875 [==============================] - 5s 3ms/step - loss: 0.0973 - accuracy: 0.9709 - val_loss: 0.0911 - val_accuracy: 0.9727\n",
      "Epoch 17/20\n",
      "1875/1875 [==============================] - 5s 3ms/step - loss: 0.0917 - accuracy: 0.9717 - val_loss: 0.0937 - val_accuracy: 0.9730\n",
      "Epoch 18/20\n",
      "1875/1875 [==============================] - 6s 3ms/step - loss: 0.0936 - accuracy: 0.9714 - val_loss: 0.0916 - val_accuracy: 0.9761\n",
      "Epoch 19/20\n",
      "1875/1875 [==============================] - 5s 3ms/step - loss: 0.0916 - accuracy: 0.9721 - val_loss: 0.0881 - val_accuracy: 0.9762\n",
      "Epoch 20/20\n",
      "1875/1875 [==============================] - 4s 2ms/step - loss: 0.0877 - accuracy: 0.9729 - val_loss: 0.0906 - val_accuracy: 0.9746\n"
     ]
    }
   ],
   "source": [
    "#Configuração dos parâmetros da rede neural e treinamento\n",
    "modelo.compile(optimizer = 'adam', loss='categorical_crossentropy', metrics=['accuracy'])\n",
    "#historico das execuções (erro e accuracy)\n",
    "historico = modelo.fit(X_treinamento, y_treinamento, epochs=20, validation_data=(X_teste, y_teste))"
   ]
  },
  {
   "cell_type": "code",
   "execution_count": 23,
   "id": "3f899ac3-5e5e-4df8-893b-bad534eda38d",
   "metadata": {},
   "outputs": [
    {
     "data": {
      "text/plain": [
       "[<matplotlib.lines.Line2D at 0x1c591952430>]"
      ]
     },
     "execution_count": 23,
     "metadata": {},
     "output_type": "execute_result"
    },
    {
     "data": {
      "image/png": "[encoded data removed]",
      "text/plain": [
       "<Figure size 432x288 with 1 Axes>"
      ]
     },
     "metadata": {
      "needs_background": "light"
     },
     "output_type": "display_data"
    }
   ],
   "source": [
    "#Gráfico para visualizar os erros e accuracy\n",
    "historico.history.keys()\n",
    "#evolução do erro\n",
    "plt.plot(historico.history['val_loss'])\n",
    "#performance da rede\n",
    "plt.plot(historico.history['val_accuracy'])"
   ]
  },
  {
   "cell_type": "markdown",
   "id": "fcdfd8fe-8d05-4733-b136-e235c796ad5d",
   "metadata": {},
   "source": [
    "#### Previsões"
   ]
  },
  {
   "cell_type": "code",
   "execution_count": 24,
   "id": "649a08e9-e66e-4ce2-af9c-aa20dfe8d203",
   "metadata": {},
   "outputs": [],
   "source": [
    "#obtenção das previsões\n",
    "previsoes = modelo.predict(X_teste)"
   ]
  },
  {
   "cell_type": "code",
   "execution_count": 26,
   "id": "7852254a-7b05-4014-bde2-bb69cf1c3bfb",
   "metadata": {},
   "outputs": [],
   "source": [
    "#valor máximo (com a probabilidade maior por serem 10 saídas) e geração da matriz de confusão\n",
    "y_teste_matriz = [np.argmax(t) for t in y_teste]\n",
    "y_previsoes_matriz = [np.argmax(t) for t in previsoes]\n",
    "confusao = confusion_matrix(y_teste_matriz, y_previsoes_matriz)"
   ]
  },
  {
   "cell_type": "code",
   "execution_count": 27,
   "id": "4cc7a521-f1af-48ce-a835-47b5f8ec8012",
   "metadata": {},
   "outputs": [
    {
     "data": {
      "text/plain": [
       "array([0., 0., 0., 0., 1., 0., 0., 0., 0., 0.], dtype=float32)"
      ]
     },
     "execution_count": 27,
     "metadata": {},
     "output_type": "execute_result"
    }
   ],
   "source": [
    "#numero a ser previsto (4)\n",
    "y_treinamento[20]"
   ]
  },
  {
   "cell_type": "code",
   "execution_count": 29,
   "id": "6007b9d5-9db4-46f0-acd0-ff4a5f067c12",
   "metadata": {},
   "outputs": [
    {
     "data": {
      "text/plain": [
       "[4]"
      ]
     },
     "execution_count": 29,
     "metadata": {},
     "output_type": "execute_result"
    }
   ],
   "source": [
    "#previsão do numero anterior\n",
    "novo = X_treinamento[20]\n",
    "novo = np.expand_dims(novo, axis=0)\n",
    "pred = modelo.predict(novo)\n",
    "pred=[np.argmax(pred) for t in pred]\n",
    "pred"
   ]
  }
 ],
 "metadata": {
  "kernelspec": {
   "display_name": "Python 3",
   "language": "python",
   "name": "python3"
  },
  "language_info": {
   "codemirror_mode": {
    "name": "ipython",
    "version": 3
   },
   "file_extension": ".py",
   "mimetype": "text/x-python",
   "name": "python",
   "nbconvert_exporter": "python",
   "pygments_lexer": "ipython3",
   "version": "3.8.8"
  }
 },
 "nbformat": 4,
 "nbformat_minor": 5
}
